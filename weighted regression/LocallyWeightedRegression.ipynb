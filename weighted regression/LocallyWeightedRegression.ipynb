{
 "cells": [
  {
   "cell_type": "code",
   "execution_count": 3,
   "metadata": {},
   "outputs": [
    {
     "name": "stdout",
     "output_type": "stream",
     "text": [
      "The Data Set ( 10 Samples) X :\n",
      " [-2.99399399 -2.98798799 -2.98198198 -2.97597598 -2.96996997 -2.96396396\n",
      " -2.95795796 -2.95195195 -2.94594595]\n",
      "The Fitting Curve Data Set (10 Samples) Y :\n",
      " [2.13582188 2.13156806 2.12730467 2.12303166 2.11874898 2.11445659\n",
      " 2.11015444 2.10584249 2.10152068]\n",
      "Normalised (10 Samples) X :\n",
      " [-3.04880282 -3.05548783 -2.9855117  -2.96076004 -2.97408012 -2.97887916\n",
      " -2.9302388  -3.05600455 -2.95179424]\n",
      " Xo Domain Space(10 Samples) :\n",
      " [-2.97993311 -2.95986622 -2.93979933 -2.91973244 -2.89966555 -2.87959866\n",
      " -2.85953177 -2.83946488 -2.81939799]\n"
     ]
    }
   ],
   "source": [
    "import numpy as np\n",
    "from bokeh.plotting import figure, show, output_notebook\n",
    "from bokeh.layouts import gridplot\n",
    "from bokeh.io import push_notebook\n",
    "\n",
    "def local_regression(x0, X, Y, tau):# add bias term\n",
    " x0 = np.r_[1, x0] # Add one to avoid the loss in information\n",
    " X = np.c_[np.ones(len(X)), X]\n",
    "\n",
    " # fit model: normal equations with kernel\n",
    " xw = X.T * radial_kernel(x0, X, tau) # XTranspose * W\n",
    "\n",
    " beta = np.linalg.pinv(xw @ X) @ xw @ Y #@ Matrix Multiplication or Dot Product\n",
    "\n",
    "\n",
    " # predict value\n",
    " return x0 @ beta # @ Matrix Multiplication or Dot Product for prediction\n",
    "def radial_kernel(x0, X, tau):\n",
    " return np.exp(np.sum((X - x0) ** 2, axis=1) / (-2 * tau * tau))\n",
    "# Weight or Radial Kernal Bias Function\n",
    "\n",
    "n = 1000\n",
    "# generate dataset\n",
    "X = np.linspace(-3, 3, num=n)\n",
    "print(\"The Data Set ( 10 Samples) X :\\n\",X[1:10])\n",
    "Y = np.log(np.abs(X ** 2 - 1) + .5)\n",
    "print(\"The Fitting Curve Data Set (10 Samples) Y :\\n\",Y[1:10])\n",
    "# jitter X\n",
    "X += np.random.normal(scale=.1, size=n)\n",
    "print(\"Normalised (10 Samples) X :\\n\",X[1:10])\n",
    "\n",
    "domain = np.linspace(-3, 3, num=300)\n",
    "print(\" Xo Domain Space(10 Samples) :\\n\",domain[1:10])\n",
    "\n",
    "def plot_lwr(tau):\n",
    " # prediction through regression\n",
    " prediction = [local_regression(x0, X, Y, tau) for x0 in domain]\n",
    " plot = figure(plot_width=400, plot_height=400)\n",
    " plot.title.text='tau=%g' % tau\n",
    " plot.scatter(X, Y, alpha=.3)\n",
    " plot.line(domain, prediction, line_width=2, color='red')\n",
    " return plot\n",
    "\n",
    "show(gridplot([\n",
    " [plot_lwr(10.), plot_lwr(1.)],\n",
    " [plot_lwr(0.1), plot_lwr(0.01)]]))"
   ]
  },
  {
   "cell_type": "code",
   "execution_count": null,
   "metadata": {},
   "outputs": [],
   "source": []
  }
 ],
 "metadata": {
  "kernelspec": {
   "display_name": "Python 3",
   "language": "python",
   "name": "python3"
  },
  "language_info": {
   "codemirror_mode": {
    "name": "ipython",
    "version": 3
   },
   "file_extension": ".py",
   "mimetype": "text/x-python",
   "name": "python",
   "nbconvert_exporter": "python",
   "pygments_lexer": "ipython3",
   "version": "3.8.3"
  }
 },
 "nbformat": 4,
 "nbformat_minor": 4
}
